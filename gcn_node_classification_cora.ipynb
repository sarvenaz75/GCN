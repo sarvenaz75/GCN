{
 "cells": [
  {
   "cell_type": "code",
   "execution_count": null,
   "metadata": {
    "colab": {
     "base_uri": "https://localhost:8080/"
    },
    "id": "k1W2V6UbR03i",
    "nbsphinx": "hidden",
    "outputId": "b3da993f-7244-4cfc-ee22-0fea8a708d71",
    "tags": [
     "CloudRunner"
    ]
   },
   "outputs": [
    {
     "name": "stdout",
     "output_type": "stream",
     "text": [
      "\u001b[K     |████████████████████████████████| 440kB 5.3MB/s \n",
      "\u001b[K     |████████████████████████████████| 235kB 36.7MB/s \n",
      "\u001b[K     |████████████████████████████████| 51kB 4.9MB/s \n",
      "\u001b[?25h  Building wheel for mplleaflet (setup.py) ... \u001b[?25l\u001b[?25hdone\n"
     ]
    }
   ],
   "source": [
    "# install StellarGraph if running on Google Colab\n",
    "import sys\n",
    "if 'google.colab' in sys.modules:\n",
    "  %pip install -q stellargraph[demos]==1.2.1"
   ]
  },
  {
   "cell_type": "code",
   "execution_count": null,
   "metadata": {
    "id": "JmuncFmGR03j",
    "nbsphinx": "hidden",
    "tags": [
     "VersionCheck"
    ]
   },
   "outputs": [],
   "source": [
    "# verify that we're using the correct version of StellarGraph for this notebook\n",
    "import stellargraph as sg\n",
    "\n",
    "try:\n",
    "    sg.utils.validate_notebook_version(\"1.2.1\")\n",
    "except AttributeError:\n",
    "    raise ValueError(\n",
    "        f\"This notebook requires StellarGraph version 1.2.1, but a different version {sg.__version__} is installed.  Please see <https://github.com/stellargraph/stellargraph/issues/1172>.\"\n",
    "    ) from None"
   ]
  },
  {
   "cell_type": "code",
   "execution_count": null,
   "metadata": {
    "id": "QJCzk6U8R03j"
   },
   "outputs": [],
   "source": [
    "import pandas as pd\n",
    "import os\n",
    "\n",
    "import stellargraph as sg\n",
    "from stellargraph.mapper import FullBatchNodeGenerator\n",
    "from stellargraph.layer import GCN\n",
    "\n",
    "from tensorflow.keras import layers, optimizers, losses, metrics, Model\n",
    "from sklearn import preprocessing, model_selection\n",
    "from IPython.display import display, HTML\n",
    "import matplotlib.pyplot as plt\n",
    "%matplotlib inline"
   ]
  },
  {
   "cell_type": "code",
   "execution_count": null,
   "metadata": {
    "colab": {
     "base_uri": "https://localhost:8080/",
     "height": 51
    },
    "id": "eFvDLw9ZR03k",
    "outputId": "33247c4e-dac9-4338-e05f-7100c41cd744",
    "tags": [
     "DataLoading"
    ]
   },
   "outputs": [
    {
     "data": {
      "text/html": [
       "The Cora dataset consists of 2708 scientific publications classified into one of seven classes. The citation network consists of 5429 links. Each publication in the dataset is described by a 0/1-valued word vector indicating the absence/presence of the corresponding word from the dictionary. The dictionary consists of 1433 unique words."
      ],
      "text/plain": [
       "<IPython.core.display.HTML object>"
      ]
     },
     "metadata": {
      "tags": []
     },
     "output_type": "display_data"
    }
   ],
   "source": [
    "dataset = sg.datasets.Cora()\n",
    "display(HTML(dataset.description))\n",
    "G, node_subjects = dataset.load()"
   ]
  },
  {
   "cell_type": "code",
   "execution_count": null,
   "metadata": {
    "colab": {
     "base_uri": "https://localhost:8080/"
    },
    "id": "Ro4dVXXeR03l",
    "outputId": "b070b033-5e02-4431-8ebe-3439e35585aa"
   },
   "outputs": [
    {
     "name": "stdout",
     "output_type": "stream",
     "text": [
      "StellarGraph: Undirected multigraph\n",
      " Nodes: 2708, Edges: 5429\n",
      "\n",
      " Node types:\n",
      "  paper: [2708]\n",
      "    Features: float32 vector, length 1433\n",
      "    Edge types: paper-cites->paper\n",
      "\n",
      " Edge types:\n",
      "    paper-cites->paper: [5429]\n",
      "        Weights: all 1 (default)\n",
      "        Features: none\n"
     ]
    }
   ],
   "source": [
    "print(G.info())"
   ]
  },
  {
   "cell_type": "code",
   "execution_count": null,
   "metadata": {
    "colab": {
     "base_uri": "https://localhost:8080/",
     "height": 266
    },
    "id": "l3rtFKLuR03l",
    "outputId": "62b83cc1-1a90-4add-e04a-10432d473ff1"
   },
   "outputs": [
    {
     "data": {
      "text/html": [
       "<div>\n",
       "<style scoped>\n",
       "    .dataframe tbody tr th:only-of-type {\n",
       "        vertical-align: middle;\n",
       "    }\n",
       "\n",
       "    .dataframe tbody tr th {\n",
       "        vertical-align: top;\n",
       "    }\n",
       "\n",
       "    .dataframe thead th {\n",
       "        text-align: right;\n",
       "    }\n",
       "</style>\n",
       "<table border=\"1\" class=\"dataframe\">\n",
       "  <thead>\n",
       "    <tr style=\"text-align: right;\">\n",
       "      <th></th>\n",
       "      <th>subject</th>\n",
       "    </tr>\n",
       "  </thead>\n",
       "  <tbody>\n",
       "    <tr>\n",
       "      <th>Neural_Networks</th>\n",
       "      <td>818</td>\n",
       "    </tr>\n",
       "    <tr>\n",
       "      <th>Probabilistic_Methods</th>\n",
       "      <td>426</td>\n",
       "    </tr>\n",
       "    <tr>\n",
       "      <th>Genetic_Algorithms</th>\n",
       "      <td>418</td>\n",
       "    </tr>\n",
       "    <tr>\n",
       "      <th>Theory</th>\n",
       "      <td>351</td>\n",
       "    </tr>\n",
       "    <tr>\n",
       "      <th>Case_Based</th>\n",
       "      <td>298</td>\n",
       "    </tr>\n",
       "    <tr>\n",
       "      <th>Reinforcement_Learning</th>\n",
       "      <td>217</td>\n",
       "    </tr>\n",
       "    <tr>\n",
       "      <th>Rule_Learning</th>\n",
       "      <td>180</td>\n",
       "    </tr>\n",
       "  </tbody>\n",
       "</table>\n",
       "</div>"
      ],
      "text/plain": [
       "                        subject\n",
       "Neural_Networks             818\n",
       "Probabilistic_Methods       426\n",
       "Genetic_Algorithms          418\n",
       "Theory                      351\n",
       "Case_Based                  298\n",
       "Reinforcement_Learning      217\n",
       "Rule_Learning               180"
      ]
     },
     "execution_count": 6,
     "metadata": {
      "tags": []
     },
     "output_type": "execute_result"
    }
   ],
   "source": [
    "node_subjects.value_counts().to_frame()"
   ]
  },
  {
   "cell_type": "code",
   "execution_count": null,
   "metadata": {
    "id": "QsO9TuBXR03m"
   },
   "outputs": [],
   "source": [
    "train_subjects, test_subjects = model_selection.train_test_split(\n",
    "    node_subjects, train_size=140, test_size=None, stratify=node_subjects\n",
    ")\n",
    "val_subjects, test_subjects = model_selection.train_test_split(\n",
    "    test_subjects, train_size=500, test_size=None, stratify=test_subjects\n",
    ")"
   ]
  },
  {
   "cell_type": "code",
   "execution_count": null,
   "metadata": {
    "colab": {
     "base_uri": "https://localhost:8080/",
     "height": 266
    },
    "id": "-n6qhiitR03n",
    "outputId": "a108e3aa-a800-4fd5-da40-743bc2c41135"
   },
   "outputs": [
    {
     "data": {
      "text/html": [
       "<div>\n",
       "<style scoped>\n",
       "    .dataframe tbody tr th:only-of-type {\n",
       "        vertical-align: middle;\n",
       "    }\n",
       "\n",
       "    .dataframe tbody tr th {\n",
       "        vertical-align: top;\n",
       "    }\n",
       "\n",
       "    .dataframe thead th {\n",
       "        text-align: right;\n",
       "    }\n",
       "</style>\n",
       "<table border=\"1\" class=\"dataframe\">\n",
       "  <thead>\n",
       "    <tr style=\"text-align: right;\">\n",
       "      <th></th>\n",
       "      <th>subject</th>\n",
       "    </tr>\n",
       "  </thead>\n",
       "  <tbody>\n",
       "    <tr>\n",
       "      <th>Neural_Networks</th>\n",
       "      <td>42</td>\n",
       "    </tr>\n",
       "    <tr>\n",
       "      <th>Probabilistic_Methods</th>\n",
       "      <td>22</td>\n",
       "    </tr>\n",
       "    <tr>\n",
       "      <th>Genetic_Algorithms</th>\n",
       "      <td>22</td>\n",
       "    </tr>\n",
       "    <tr>\n",
       "      <th>Theory</th>\n",
       "      <td>18</td>\n",
       "    </tr>\n",
       "    <tr>\n",
       "      <th>Case_Based</th>\n",
       "      <td>16</td>\n",
       "    </tr>\n",
       "    <tr>\n",
       "      <th>Reinforcement_Learning</th>\n",
       "      <td>11</td>\n",
       "    </tr>\n",
       "    <tr>\n",
       "      <th>Rule_Learning</th>\n",
       "      <td>9</td>\n",
       "    </tr>\n",
       "  </tbody>\n",
       "</table>\n",
       "</div>"
      ],
      "text/plain": [
       "                        subject\n",
       "Neural_Networks              42\n",
       "Probabilistic_Methods        22\n",
       "Genetic_Algorithms           22\n",
       "Theory                       18\n",
       "Case_Based                   16\n",
       "Reinforcement_Learning       11\n",
       "Rule_Learning                 9"
      ]
     },
     "execution_count": 8,
     "metadata": {
      "tags": []
     },
     "output_type": "execute_result"
    }
   ],
   "source": [
    "train_subjects.value_counts().to_frame()"
   ]
  },
  {
   "cell_type": "code",
   "execution_count": null,
   "metadata": {
    "id": "lcjHeTgVR03o"
   },
   "outputs": [],
   "source": [
    "target_encoding = preprocessing.LabelBinarizer()\n",
    "\n",
    "train_targets = target_encoding.fit_transform(train_subjects)\n",
    "val_targets = target_encoding.transform(val_subjects)\n",
    "test_targets = target_encoding.transform(test_subjects)"
   ]
  },
  {
   "cell_type": "code",
   "execution_count": null,
   "metadata": {
    "colab": {
     "base_uri": "https://localhost:8080/"
    },
    "id": "k2HcKhLTR03p",
    "outputId": "08acdecf-b544-4615-b6d4-a313448428fc"
   },
   "outputs": [
    {
     "name": "stdout",
     "output_type": "stream",
     "text": [
      "Using GCN (local pooling) filters...\n"
     ]
    }
   ],
   "source": [
    "generator = FullBatchNodeGenerator(G, method=\"gcn\")"
   ]
  },
  {
   "cell_type": "code",
   "execution_count": null,
   "metadata": {
    "id": "6U4eNnw8R03p"
   },
   "outputs": [],
   "source": [
    "train_gen = generator.flow(train_subjects.index, train_targets)"
   ]
  },
  {
   "cell_type": "code",
   "execution_count": null,
   "metadata": {
    "id": "tAJv6Hn1R03q"
   },
   "outputs": [],
   "source": [
    "gcn = GCN(\n",
    "    layer_sizes=[16, 16], activations=[\"relu\", \"relu\"], generator=generator, dropout=0.5\n",
    ")"
   ]
  },
  {
   "cell_type": "code",
   "execution_count": null,
   "metadata": {
    "colab": {
     "base_uri": "https://localhost:8080/"
    },
    "id": "peunFHxxR03q",
    "outputId": "0cd7c975-be91-4a0f-f146-d26fc4c4e906"
   },
   "outputs": [
    {
     "data": {
      "text/plain": [
       "<KerasTensor: shape=(1, None, 16) dtype=float32 (created by layer 'gather_indices')>"
      ]
     },
     "execution_count": 13,
     "metadata": {
      "tags": []
     },
     "output_type": "execute_result"
    }
   ],
   "source": [
    "x_inp, x_out = gcn.in_out_tensors()\n",
    "\n",
    "x_out"
   ]
  },
  {
   "cell_type": "code",
   "execution_count": null,
   "metadata": {
    "id": "etKOZjdIR03r"
   },
   "outputs": [],
   "source": [
    "predictions = layers.Dense(units=train_targets.shape[1], activation=\"softmax\")(x_out)"
   ]
  },
  {
   "cell_type": "code",
   "execution_count": null,
   "metadata": {
    "id": "3fTCuhkmR03r"
   },
   "outputs": [],
   "source": [
    "model = Model(inputs=x_inp, outputs=predictions)\n",
    "model.compile(\n",
    "    optimizer=optimizers.Adam(lr=0.01),\n",
    "    loss=losses.categorical_crossentropy,\n",
    "    metrics=[\"acc\"],\n",
    ")"
   ]
  },
  {
   "cell_type": "code",
   "execution_count": null,
   "metadata": {
    "id": "JD-MHk2bR03s"
   },
   "outputs": [],
   "source": [
    "val_gen = generator.flow(val_subjects.index, val_targets)"
   ]
  },
  {
   "cell_type": "code",
   "execution_count": null,
   "metadata": {
    "id": "6lb3bUQSR03s"
   },
   "outputs": [],
   "source": [
    "from tensorflow.keras.callbacks import EarlyStopping\n",
    "\n",
    "es_callback = EarlyStopping(monitor=\"val_acc\", patience=50, restore_best_weights=True)"
   ]
  },
  {
   "cell_type": "code",
   "execution_count": null,
   "metadata": {
    "colab": {
     "base_uri": "https://localhost:8080/"
    },
    "id": "HsFV57DOR03t",
    "outputId": "7fa0b83c-96de-42bb-b79b-daa664e6b05a"
   },
   "outputs": [
    {
     "name": "stdout",
     "output_type": "stream",
     "text": [
      "Epoch 1/200\n",
      "1/1 - 2s - loss: 1.9447 - acc: 0.1000 - val_loss: 1.8978 - val_acc: 0.2820\n",
      "Epoch 2/200\n",
      "1/1 - 0s - loss: 1.8870 - acc: 0.2857 - val_loss: 1.8421 - val_acc: 0.3020\n",
      "Epoch 3/200\n",
      "1/1 - 0s - loss: 1.8324 - acc: 0.3000 - val_loss: 1.7814 - val_acc: 0.3020\n",
      "Epoch 4/200\n",
      "1/1 - 0s - loss: 1.7605 - acc: 0.3071 - val_loss: 1.7189 - val_acc: 0.3020\n",
      "Epoch 5/200\n",
      "1/1 - 0s - loss: 1.6738 - acc: 0.3071 - val_loss: 1.6527 - val_acc: 0.3020\n",
      "Epoch 6/200\n",
      "1/1 - 0s - loss: 1.5918 - acc: 0.3214 - val_loss: 1.5856 - val_acc: 0.3120\n",
      "Epoch 7/200\n",
      "1/1 - 0s - loss: 1.4868 - acc: 0.3571 - val_loss: 1.5183 - val_acc: 0.3380\n",
      "Epoch 8/200\n",
      "1/1 - 0s - loss: 1.4172 - acc: 0.3857 - val_loss: 1.4461 - val_acc: 0.3980\n",
      "Epoch 9/200\n",
      "1/1 - 0s - loss: 1.3204 - acc: 0.4714 - val_loss: 1.3738 - val_acc: 0.4820\n",
      "Epoch 10/200\n",
      "1/1 - 0s - loss: 1.2038 - acc: 0.5571 - val_loss: 1.3040 - val_acc: 0.5380\n",
      "Epoch 11/200\n",
      "1/1 - 0s - loss: 1.1652 - acc: 0.5500 - val_loss: 1.2363 - val_acc: 0.5980\n",
      "Epoch 12/200\n",
      "1/1 - 0s - loss: 1.0758 - acc: 0.6286 - val_loss: 1.1711 - val_acc: 0.6480\n",
      "Epoch 13/200\n",
      "1/1 - 0s - loss: 0.9466 - acc: 0.7071 - val_loss: 1.1081 - val_acc: 0.6960\n",
      "Epoch 14/200\n",
      "1/1 - 0s - loss: 0.8675 - acc: 0.7571 - val_loss: 1.0497 - val_acc: 0.7420\n",
      "Epoch 15/200\n",
      "1/1 - 0s - loss: 0.8296 - acc: 0.8000 - val_loss: 0.9968 - val_acc: 0.7600\n",
      "Epoch 16/200\n",
      "1/1 - 0s - loss: 0.7236 - acc: 0.8429 - val_loss: 0.9437 - val_acc: 0.7720\n",
      "Epoch 17/200\n",
      "1/1 - 0s - loss: 0.6835 - acc: 0.8357 - val_loss: 0.8942 - val_acc: 0.7820\n",
      "Epoch 18/200\n",
      "1/1 - 0s - loss: 0.5471 - acc: 0.9286 - val_loss: 0.8483 - val_acc: 0.7800\n",
      "Epoch 19/200\n",
      "1/1 - 0s - loss: 0.5344 - acc: 0.8714 - val_loss: 0.8053 - val_acc: 0.7900\n",
      "Epoch 20/200\n",
      "1/1 - 0s - loss: 0.4661 - acc: 0.9000 - val_loss: 0.7678 - val_acc: 0.7960\n",
      "Epoch 21/200\n",
      "1/1 - 0s - loss: 0.4308 - acc: 0.8929 - val_loss: 0.7380 - val_acc: 0.7960\n",
      "Epoch 22/200\n",
      "1/1 - 0s - loss: 0.3392 - acc: 0.9357 - val_loss: 0.7118 - val_acc: 0.8040\n",
      "Epoch 23/200\n",
      "1/1 - 0s - loss: 0.2940 - acc: 0.9571 - val_loss: 0.6949 - val_acc: 0.8080\n",
      "Epoch 24/200\n",
      "1/1 - 0s - loss: 0.2654 - acc: 0.9571 - val_loss: 0.6855 - val_acc: 0.8100\n",
      "Epoch 25/200\n",
      "1/1 - 0s - loss: 0.2188 - acc: 0.9571 - val_loss: 0.6821 - val_acc: 0.8040\n",
      "Epoch 26/200\n",
      "1/1 - 0s - loss: 0.2393 - acc: 0.9429 - val_loss: 0.6861 - val_acc: 0.8000\n",
      "Epoch 27/200\n",
      "1/1 - 0s - loss: 0.1879 - acc: 0.9500 - val_loss: 0.6879 - val_acc: 0.8060\n",
      "Epoch 28/200\n",
      "1/1 - 0s - loss: 0.2018 - acc: 0.9571 - val_loss: 0.6954 - val_acc: 0.8100\n",
      "Epoch 29/200\n",
      "1/1 - 0s - loss: 0.1301 - acc: 0.9786 - val_loss: 0.7058 - val_acc: 0.8100\n",
      "Epoch 30/200\n",
      "1/1 - 0s - loss: 0.1131 - acc: 0.9714 - val_loss: 0.7127 - val_acc: 0.8120\n",
      "Epoch 31/200\n",
      "1/1 - 0s - loss: 0.1514 - acc: 0.9786 - val_loss: 0.7164 - val_acc: 0.8060\n",
      "Epoch 32/200\n",
      "1/1 - 0s - loss: 0.1277 - acc: 0.9571 - val_loss: 0.7244 - val_acc: 0.8080\n",
      "Epoch 33/200\n",
      "1/1 - 0s - loss: 0.1226 - acc: 0.9500 - val_loss: 0.7339 - val_acc: 0.8040\n",
      "Epoch 34/200\n",
      "1/1 - 0s - loss: 0.0842 - acc: 0.9857 - val_loss: 0.7473 - val_acc: 0.8060\n",
      "Epoch 35/200\n",
      "1/1 - 0s - loss: 0.1089 - acc: 0.9714 - val_loss: 0.7634 - val_acc: 0.8080\n",
      "Epoch 36/200\n",
      "1/1 - 0s - loss: 0.1088 - acc: 0.9643 - val_loss: 0.7796 - val_acc: 0.8080\n",
      "Epoch 37/200\n",
      "1/1 - 0s - loss: 0.1223 - acc: 0.9571 - val_loss: 0.7983 - val_acc: 0.8140\n",
      "Epoch 38/200\n",
      "1/1 - 0s - loss: 0.0905 - acc: 0.9857 - val_loss: 0.8196 - val_acc: 0.8120\n",
      "Epoch 39/200\n",
      "1/1 - 0s - loss: 0.1044 - acc: 0.9714 - val_loss: 0.8355 - val_acc: 0.8160\n",
      "Epoch 40/200\n",
      "1/1 - 0s - loss: 0.0849 - acc: 0.9714 - val_loss: 0.8424 - val_acc: 0.8160\n",
      "Epoch 41/200\n",
      "1/1 - 0s - loss: 0.0712 - acc: 0.9857 - val_loss: 0.8434 - val_acc: 0.8180\n",
      "Epoch 42/200\n",
      "1/1 - 0s - loss: 0.1043 - acc: 0.9714 - val_loss: 0.8387 - val_acc: 0.8160\n",
      "Epoch 43/200\n",
      "1/1 - 0s - loss: 0.1069 - acc: 0.9714 - val_loss: 0.8285 - val_acc: 0.8140\n",
      "Epoch 44/200\n",
      "1/1 - 0s - loss: 0.0844 - acc: 0.9786 - val_loss: 0.8201 - val_acc: 0.8140\n",
      "Epoch 45/200\n",
      "1/1 - 0s - loss: 0.0466 - acc: 0.9929 - val_loss: 0.8169 - val_acc: 0.8100\n",
      "Epoch 46/200\n",
      "1/1 - 0s - loss: 0.0382 - acc: 0.9929 - val_loss: 0.8164 - val_acc: 0.8040\n",
      "Epoch 47/200\n",
      "1/1 - 0s - loss: 0.0519 - acc: 0.9857 - val_loss: 0.8190 - val_acc: 0.8060\n",
      "Epoch 48/200\n",
      "1/1 - 0s - loss: 0.0334 - acc: 1.0000 - val_loss: 0.8223 - val_acc: 0.8100\n",
      "Epoch 49/200\n",
      "1/1 - 0s - loss: 0.0291 - acc: 0.9929 - val_loss: 0.8285 - val_acc: 0.8100\n",
      "Epoch 50/200\n",
      "1/1 - 0s - loss: 0.0678 - acc: 0.9786 - val_loss: 0.8392 - val_acc: 0.8100\n",
      "Epoch 51/200\n",
      "1/1 - 0s - loss: 0.0388 - acc: 0.9857 - val_loss: 0.8525 - val_acc: 0.8100\n",
      "Epoch 52/200\n",
      "1/1 - 0s - loss: 0.0363 - acc: 1.0000 - val_loss: 0.8677 - val_acc: 0.8120\n",
      "Epoch 53/200\n",
      "1/1 - 0s - loss: 0.0549 - acc: 0.9929 - val_loss: 0.8809 - val_acc: 0.8180\n",
      "Epoch 54/200\n",
      "1/1 - 0s - loss: 0.0516 - acc: 0.9857 - val_loss: 0.8931 - val_acc: 0.8140\n",
      "Epoch 55/200\n",
      "1/1 - 0s - loss: 0.1098 - acc: 0.9714 - val_loss: 0.9080 - val_acc: 0.8120\n",
      "Epoch 56/200\n",
      "1/1 - 0s - loss: 0.0245 - acc: 0.9929 - val_loss: 0.9178 - val_acc: 0.8100\n",
      "Epoch 57/200\n",
      "1/1 - 0s - loss: 0.0963 - acc: 0.9857 - val_loss: 0.9260 - val_acc: 0.8040\n",
      "Epoch 58/200\n",
      "1/1 - 0s - loss: 0.0531 - acc: 0.9786 - val_loss: 0.9328 - val_acc: 0.8000\n",
      "Epoch 59/200\n",
      "1/1 - 0s - loss: 0.0289 - acc: 1.0000 - val_loss: 0.9383 - val_acc: 0.8040\n",
      "Epoch 60/200\n",
      "1/1 - 0s - loss: 0.0358 - acc: 0.9929 - val_loss: 0.9432 - val_acc: 0.8040\n",
      "Epoch 61/200\n",
      "1/1 - 0s - loss: 0.0542 - acc: 0.9929 - val_loss: 0.9375 - val_acc: 0.8060\n",
      "Epoch 62/200\n",
      "1/1 - 0s - loss: 0.0748 - acc: 0.9571 - val_loss: 0.9358 - val_acc: 0.8080\n",
      "Epoch 63/200\n",
      "1/1 - 0s - loss: 0.0282 - acc: 1.0000 - val_loss: 0.9353 - val_acc: 0.8040\n",
      "Epoch 64/200\n",
      "1/1 - 0s - loss: 0.0352 - acc: 1.0000 - val_loss: 0.9368 - val_acc: 0.8020\n",
      "Epoch 65/200\n",
      "1/1 - 0s - loss: 0.0246 - acc: 1.0000 - val_loss: 0.9405 - val_acc: 0.8060\n",
      "Epoch 66/200\n",
      "1/1 - 0s - loss: 0.0251 - acc: 0.9929 - val_loss: 0.9460 - val_acc: 0.8040\n",
      "Epoch 67/200\n",
      "1/1 - 0s - loss: 0.0431 - acc: 0.9857 - val_loss: 0.9547 - val_acc: 0.8060\n",
      "Epoch 68/200\n",
      "1/1 - 0s - loss: 0.0480 - acc: 0.9857 - val_loss: 0.9620 - val_acc: 0.8040\n",
      "Epoch 69/200\n",
      "1/1 - 0s - loss: 0.0264 - acc: 1.0000 - val_loss: 0.9727 - val_acc: 0.8020\n",
      "Epoch 70/200\n",
      "1/1 - 0s - loss: 0.0182 - acc: 1.0000 - val_loss: 0.9851 - val_acc: 0.7960\n",
      "Epoch 71/200\n",
      "1/1 - 0s - loss: 0.0203 - acc: 1.0000 - val_loss: 0.9973 - val_acc: 0.7980\n",
      "Epoch 72/200\n",
      "1/1 - 0s - loss: 0.0332 - acc: 1.0000 - val_loss: 1.0092 - val_acc: 0.7960\n",
      "Epoch 73/200\n",
      "1/1 - 0s - loss: 0.0269 - acc: 1.0000 - val_loss: 1.0218 - val_acc: 0.7980\n",
      "Epoch 74/200\n",
      "1/1 - 0s - loss: 0.0271 - acc: 1.0000 - val_loss: 1.0351 - val_acc: 0.8000\n",
      "Epoch 75/200\n",
      "1/1 - 0s - loss: 0.0366 - acc: 0.9929 - val_loss: 1.0468 - val_acc: 0.7960\n",
      "Epoch 76/200\n",
      "1/1 - 0s - loss: 0.0250 - acc: 0.9929 - val_loss: 1.0563 - val_acc: 0.8000\n",
      "Epoch 77/200\n",
      "1/1 - 0s - loss: 0.0232 - acc: 0.9929 - val_loss: 1.0666 - val_acc: 0.7960\n",
      "Epoch 78/200\n",
      "1/1 - 0s - loss: 0.0334 - acc: 0.9786 - val_loss: 1.0764 - val_acc: 0.8000\n",
      "Epoch 79/200\n",
      "1/1 - 0s - loss: 0.0378 - acc: 0.9929 - val_loss: 1.0879 - val_acc: 0.8020\n",
      "Epoch 80/200\n",
      "1/1 - 0s - loss: 0.0241 - acc: 0.9929 - val_loss: 1.1051 - val_acc: 0.8040\n",
      "Epoch 81/200\n",
      "1/1 - 0s - loss: 0.0189 - acc: 1.0000 - val_loss: 1.1198 - val_acc: 0.8020\n",
      "Epoch 82/200\n",
      "1/1 - 0s - loss: 0.0635 - acc: 0.9786 - val_loss: 1.1305 - val_acc: 0.8040\n",
      "Epoch 83/200\n",
      "1/1 - 0s - loss: 0.0118 - acc: 1.0000 - val_loss: 1.1434 - val_acc: 0.8020\n",
      "Epoch 84/200\n",
      "1/1 - 0s - loss: 0.0197 - acc: 0.9929 - val_loss: 1.1472 - val_acc: 0.8040\n",
      "Epoch 85/200\n",
      "1/1 - 0s - loss: 0.0148 - acc: 1.0000 - val_loss: 1.1483 - val_acc: 0.8020\n",
      "Epoch 86/200\n",
      "1/1 - 0s - loss: 0.0246 - acc: 0.9929 - val_loss: 1.1475 - val_acc: 0.8020\n",
      "Epoch 87/200\n",
      "1/1 - 0s - loss: 0.0106 - acc: 1.0000 - val_loss: 1.1468 - val_acc: 0.7980\n",
      "Epoch 88/200\n",
      "1/1 - 0s - loss: 0.0123 - acc: 1.0000 - val_loss: 1.1440 - val_acc: 0.7980\n",
      "Epoch 89/200\n",
      "1/1 - 0s - loss: 0.0171 - acc: 1.0000 - val_loss: 1.1440 - val_acc: 0.7960\n",
      "Epoch 90/200\n",
      "1/1 - 0s - loss: 0.0167 - acc: 1.0000 - val_loss: 1.1418 - val_acc: 0.7940\n",
      "Epoch 91/200\n",
      "1/1 - 0s - loss: 0.0159 - acc: 1.0000 - val_loss: 1.1405 - val_acc: 0.7940\n"
     ]
    }
   ],
   "source": [
    "history = model.fit(\n",
    "    train_gen,\n",
    "    epochs=200,\n",
    "    validation_data=val_gen,\n",
    "    verbose=2,\n",
    "    shuffle=False,  # this should be False, since shuffling data means shuffling the whole graph\n",
    "    callbacks=[es_callback],\n",
    ")"
   ]
  },
  {
   "cell_type": "code",
   "execution_count": null,
   "metadata": {
    "colab": {
     "base_uri": "https://localhost:8080/",
     "height": 585
    },
    "id": "Y_tO5YQaR03t",
    "outputId": "5628c21e-f8f7-446b-e892-dd3628ecf6ce"
   },
   "outputs": [
    {
     "data": {
      "image/png": "[encoded data removed]",
      "text/plain": [
       "<Figure size 504x576 with 2 Axes>"
      ]
     },
     "metadata": {
      "needs_background": "light",
      "tags": []
     },
     "output_type": "display_data"
    }
   ],
   "source": [
    "sg.utils.plot_history(history)"
   ]
  },
  {
   "cell_type": "code",
   "execution_count": null,
   "metadata": {
    "id": "iPFdJsbqR03u"
   },
   "outputs": [],
   "source": [
    "test_gen = generator.flow(test_subjects.index, test_targets)"
   ]
  },
  {
   "cell_type": "code",
   "execution_count": null,
   "metadata": {
    "colab": {
     "base_uri": "https://localhost:8080/"
    },
    "id": "rwbx2KxVR03u",
    "outputId": "ef610cab-34fa-44f2-fe6d-88ff6bc32653"
   },
   "outputs": [
    {
     "name": "stdout",
     "output_type": "stream",
     "text": [
      "1/1 [==============================] - 0s 54ms/step - loss: 0.8229 - acc: 0.7853\n",
      "\n",
      "Test Set Metrics:\n",
      "\tloss: 0.8229\n",
      "\tacc: 0.7853\n"
     ]
    }
   ],
   "source": [
    "test_metrics = model.evaluate(test_gen)\n",
    "print(\"\\nTest Set Metrics:\")\n",
    "for name, val in zip(model.metrics_names, test_metrics):\n",
    "    print(\"\\t{}: {:0.4f}\".format(name, val))"
   ]
  },
  {
   "cell_type": "code",
   "execution_count": null,
   "metadata": {
    "id": "7ikSDIlQR03u"
   },
   "outputs": [],
   "source": [
    "all_nodes = node_subjects.index\n",
    "all_gen = generator.flow(all_nodes)\n",
    "all_predictions = model.predict(all_gen)"
   ]
  },
  {
   "cell_type": "code",
   "execution_count": null,
   "metadata": {
    "id": "wLhmOvn-R03v"
   },
   "outputs": [],
   "source": [
    "node_predictions = target_encoding.inverse_transform(all_predictions.squeeze())"
   ]
  },
  {
   "cell_type": "code",
   "execution_count": null,
   "metadata": {
    "colab": {
     "base_uri": "https://localhost:8080/",
     "height": 669
    },
    "id": "Ffc3qMTqR03v",
    "outputId": "abc3d8d2-0f92-425b-d8c3-2a7600b25f03"
   },
   "outputs": [
    {
     "data": {
      "text/html": [
       "<div>\n",
       "<style scoped>\n",
       "    .dataframe tbody tr th:only-of-type {\n",
       "        vertical-align: middle;\n",
       "    }\n",
       "\n",
       "    .dataframe tbody tr th {\n",
       "        vertical-align: top;\n",
       "    }\n",
       "\n",
       "    .dataframe thead th {\n",
       "        text-align: right;\n",
       "    }\n",
       "</style>\n",
       "<table border=\"1\" class=\"dataframe\">\n",
       "  <thead>\n",
       "    <tr style=\"text-align: right;\">\n",
       "      <th></th>\n",
       "      <th>Predicted</th>\n",
       "      <th>True</th>\n",
       "    </tr>\n",
       "  </thead>\n",
       "  <tbody>\n",
       "    <tr>\n",
       "      <th>31336</th>\n",
       "      <td>Neural_Networks</td>\n",
       "      <td>Neural_Networks</td>\n",
       "    </tr>\n",
       "    <tr>\n",
       "      <th>1061127</th>\n",
       "      <td>Probabilistic_Methods</td>\n",
       "      <td>Rule_Learning</td>\n",
       "    </tr>\n",
       "    <tr>\n",
       "      <th>1106406</th>\n",
       "      <td>Reinforcement_Learning</td>\n",
       "      <td>Reinforcement_Learning</td>\n",
       "    </tr>\n",
       "    <tr>\n",
       "      <th>13195</th>\n",
       "      <td>Reinforcement_Learning</td>\n",
       "      <td>Reinforcement_Learning</td>\n",
       "    </tr>\n",
       "    <tr>\n",
       "      <th>37879</th>\n",
       "      <td>Probabilistic_Methods</td>\n",
       "      <td>Probabilistic_Methods</td>\n",
       "    </tr>\n",
       "    <tr>\n",
       "      <th>1126012</th>\n",
       "      <td>Probabilistic_Methods</td>\n",
       "      <td>Probabilistic_Methods</td>\n",
       "    </tr>\n",
       "    <tr>\n",
       "      <th>1107140</th>\n",
       "      <td>Reinforcement_Learning</td>\n",
       "      <td>Theory</td>\n",
       "    </tr>\n",
       "    <tr>\n",
       "      <th>1102850</th>\n",
       "      <td>Neural_Networks</td>\n",
       "      <td>Neural_Networks</td>\n",
       "    </tr>\n",
       "    <tr>\n",
       "      <th>31349</th>\n",
       "      <td>Neural_Networks</td>\n",
       "      <td>Neural_Networks</td>\n",
       "    </tr>\n",
       "    <tr>\n",
       "      <th>1106418</th>\n",
       "      <td>Theory</td>\n",
       "      <td>Theory</td>\n",
       "    </tr>\n",
       "    <tr>\n",
       "      <th>1123188</th>\n",
       "      <td>Neural_Networks</td>\n",
       "      <td>Neural_Networks</td>\n",
       "    </tr>\n",
       "    <tr>\n",
       "      <th>1128990</th>\n",
       "      <td>Neural_Networks</td>\n",
       "      <td>Genetic_Algorithms</td>\n",
       "    </tr>\n",
       "    <tr>\n",
       "      <th>109323</th>\n",
       "      <td>Probabilistic_Methods</td>\n",
       "      <td>Probabilistic_Methods</td>\n",
       "    </tr>\n",
       "    <tr>\n",
       "      <th>217139</th>\n",
       "      <td>Theory</td>\n",
       "      <td>Case_Based</td>\n",
       "    </tr>\n",
       "    <tr>\n",
       "      <th>31353</th>\n",
       "      <td>Neural_Networks</td>\n",
       "      <td>Neural_Networks</td>\n",
       "    </tr>\n",
       "    <tr>\n",
       "      <th>32083</th>\n",
       "      <td>Neural_Networks</td>\n",
       "      <td>Neural_Networks</td>\n",
       "    </tr>\n",
       "    <tr>\n",
       "      <th>1126029</th>\n",
       "      <td>Reinforcement_Learning</td>\n",
       "      <td>Reinforcement_Learning</td>\n",
       "    </tr>\n",
       "    <tr>\n",
       "      <th>1118017</th>\n",
       "      <td>Neural_Networks</td>\n",
       "      <td>Neural_Networks</td>\n",
       "    </tr>\n",
       "    <tr>\n",
       "      <th>49482</th>\n",
       "      <td>Neural_Networks</td>\n",
       "      <td>Neural_Networks</td>\n",
       "    </tr>\n",
       "    <tr>\n",
       "      <th>753265</th>\n",
       "      <td>Theory</td>\n",
       "      <td>Neural_Networks</td>\n",
       "    </tr>\n",
       "  </tbody>\n",
       "</table>\n",
       "</div>"
      ],
      "text/plain": [
       "                      Predicted                    True\n",
       "31336           Neural_Networks         Neural_Networks\n",
       "1061127   Probabilistic_Methods           Rule_Learning\n",
       "1106406  Reinforcement_Learning  Reinforcement_Learning\n",
       "13195    Reinforcement_Learning  Reinforcement_Learning\n",
       "37879     Probabilistic_Methods   Probabilistic_Methods\n",
       "1126012   Probabilistic_Methods   Probabilistic_Methods\n",
       "1107140  Reinforcement_Learning                  Theory\n",
       "1102850         Neural_Networks         Neural_Networks\n",
       "31349           Neural_Networks         Neural_Networks\n",
       "1106418                  Theory                  Theory\n",
       "1123188         Neural_Networks         Neural_Networks\n",
       "1128990         Neural_Networks      Genetic_Algorithms\n",
       "109323    Probabilistic_Methods   Probabilistic_Methods\n",
       "217139                   Theory              Case_Based\n",
       "31353           Neural_Networks         Neural_Networks\n",
       "32083           Neural_Networks         Neural_Networks\n",
       "1126029  Reinforcement_Learning  Reinforcement_Learning\n",
       "1118017         Neural_Networks         Neural_Networks\n",
       "49482           Neural_Networks         Neural_Networks\n",
       "753265                   Theory         Neural_Networks"
      ]
     },
     "execution_count": 24,
     "metadata": {
      "tags": []
     },
     "output_type": "execute_result"
    }
   ],
   "source": [
    "df = pd.DataFrame({\"Predicted\": node_predictions, \"True\": node_subjects})\n",
    "df.head(20)"
   ]
  },
  {
   "cell_type": "code",
   "execution_count": null,
   "metadata": {
    "id": "BkKtuL5YR03w"
   },
   "outputs": [],
   "source": [
    "embedding_model = Model(inputs=x_inp, outputs=x_out)"
   ]
  },
  {
   "cell_type": "code",
   "execution_count": null,
   "metadata": {
    "colab": {
     "base_uri": "https://localhost:8080/"
    },
    "id": "PXiSl1wrR03w",
    "outputId": "6c94c855-6408-49e0-91fa-782bd314b976"
   },
   "outputs": [
    {
     "data": {
      "text/plain": [
       "(1, 2708, 16)"
      ]
     },
     "execution_count": 26,
     "metadata": {
      "tags": []
     },
     "output_type": "execute_result"
    }
   ],
   "source": [
    "emb = embedding_model.predict(all_gen)\n",
    "emb.shape"
   ]
  },
  {
   "cell_type": "code",
   "execution_count": null,
   "metadata": {
    "id": "emna8g5gR03w"
   },
   "outputs": [],
   "source": [
    "from sklearn.decomposition import PCA\n",
    "from sklearn.manifold import TSNE\n",
    "\n",
    "transform = TSNE  # or PCA"
   ]
  },
  {
   "cell_type": "code",
   "execution_count": null,
   "metadata": {
    "colab": {
     "base_uri": "https://localhost:8080/"
    },
    "id": "OtkohgWBR03x",
    "outputId": "f792dab3-08c1-43f2-b389-eb1736f0e291"
   },
   "outputs": [
    {
     "data": {
      "text/plain": [
       "(2708, 16)"
      ]
     },
     "execution_count": 28,
     "metadata": {
      "tags": []
     },
     "output_type": "execute_result"
    }
   ],
   "source": [
    "X = emb.squeeze(0)\n",
    "X.shape"
   ]
  },
  {
   "cell_type": "code",
   "execution_count": null,
   "metadata": {
    "colab": {
     "base_uri": "https://localhost:8080/"
    },
    "id": "fmoaNT2dR03x",
    "outputId": "97df2f51-b996-4b8e-cd2a-455db6d0e42b"
   },
   "outputs": [
    {
     "data": {
      "text/plain": [
       "(2708, 2)"
      ]
     },
     "execution_count": 29,
     "metadata": {
      "tags": []
     },
     "output_type": "execute_result"
    }
   ],
   "source": [
    "trans = transform(n_components=2)\n",
    "X_reduced = trans.fit_transform(X)\n",
    "X_reduced.shape"
   ]
  },
  {
   "cell_type": "code",
   "execution_count": null,
   "metadata": {
    "colab": {
     "base_uri": "https://localhost:8080/",
     "height": 530
    },
    "id": "nqTsWcyKR03y",
    "outputId": "4a8ff76c-9e09-42f1-a036-60375a92189a"
   },
   "outputs": [
    {
     "data": {
      "text/plain": [
       "[Text(0, 0.5, '$X_2$'),\n",
       " Text(0.5, 0, '$X_1$'),\n",
       " Text(0.5, 1.0, 'TSNE visualization of GCN embeddings for cora dataset'),\n",
       " None]"
      ]
     },
     "execution_count": 30,
     "metadata": {
      "tags": []
     },
     "output_type": "execute_result"
    },
    {
     "data": {
      "image/png": "[encoded data removed]",
      "text/plain": [
       "<Figure size 504x504 with 1 Axes>"
      ]
     },
     "metadata": {
      "needs_background": "light",
      "tags": []
     },
     "output_type": "display_data"
    }
   ],
   "source": [
    "fig, ax = plt.subplots(figsize=(7, 7))\n",
    "ax.scatter(\n",
    "    X_reduced[:, 0],\n",
    "    X_reduced[:, 1],\n",
    "    c=node_subjects.astype(\"category\").cat.codes,\n",
    "    cmap=\"jet\",\n",
    "    alpha=0.7,\n",
    ")\n",
    "ax.set(\n",
    "    aspect=\"equal\",\n",
    "    xlabel=\"$X_1$\",\n",
    "    ylabel=\"$X_2$\",\n",
    "    title=f\"{transform.__name__} visualization of GCN embeddings for cora dataset\",\n",
    ")"
   ]
  }
 ],
 "metadata": {
  "colab": {
   "name": "gcn-node-classification_cora.ipynb",
   "provenance": []
  },
  "kernelspec": {
   "display_name": "Python 3",
   "language": "python",
   "name": "python3"
  },
  "language_info": {
   "codemirror_mode": {
    "name": "ipython",
    "version": 3
   },
   "file_extension": ".py",
   "mimetype": "text/x-python",
   "name": "python",
   "nbconvert_exporter": "python",
   "pygments_lexer": "ipython3",
   "version": "3.8.5"
  }
 },
 "nbformat": 4,
 "nbformat_minor": 1
}
